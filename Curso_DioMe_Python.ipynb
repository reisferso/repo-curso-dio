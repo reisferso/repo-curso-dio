{
  "nbformat": 4,
  "nbformat_minor": 0,
  "metadata": {
    "colab": {
      "provenance": [],
      "authorship_tag": "ABX9TyMfEy7QdoYgBC3SN3RstHIC",
      "include_colab_link": true
    },
    "kernelspec": {
      "name": "python3",
      "display_name": "Python 3"
    },
    "language_info": {
      "name": "python"
    }
  },
  "cells": [
    {
      "cell_type": "markdown",
      "metadata": {
        "id": "view-in-github",
        "colab_type": "text"
      },
      "source": [
        "<a href=\"https://colab.research.google.com/github/reisferso/repo-curso-dio/blob/main/Curso_DioMe_Python.ipynb\" target=\"_parent\"><img src=\"https://colab.research.google.com/assets/colab-badge.svg\" alt=\"Open In Colab\"/></a>"
      ]
    },
    {
      "cell_type": "markdown",
      "source": [
        "# 00 - Fundamentos/desafio.py\n",
        "https://github.com/digitalinnovationone/trilha-python-dio/blob/main/00%20-%20Fundamentos/desafio.py"
      ],
      "metadata": {
        "id": "Jygelx0niAqn"
      }
    },
    {
      "cell_type": "code",
      "source": [
        "## https://github.com/reisferso/repo-curso-dio\n",
        "\n",
        "menu = \"\"\"\n",
        "\n",
        "[d] Depositar\n",
        "[s] Sacar\n",
        "[e] Extrato\n",
        "[q] Sair\n",
        "\n",
        "=> \"\"\"\n",
        "\n",
        "saldo = 0\n",
        "limite = 500\n",
        "extrato = \"\"\n",
        "numero_saques = 0\n",
        "LIMITE_SAQUES = 3\n",
        "\n",
        "while True:\n",
        "\n",
        "    opcao = input(menu)\n",
        "\n",
        "    if opcao == \"d\":\n",
        "        valor = float(input(\"Informe o valor do depósito: \"))\n",
        "\n",
        "        if valor > 0:\n",
        "            saldo += valor\n",
        "            extrato += f\"Depósito: R$ {valor:.2f}\\n\"\n",
        "\n",
        "        else:\n",
        "            print(\"Operação falhou! O valor informado é inválido.\")\n",
        "\n",
        "    ## Bloco do Saque\n",
        "    elif opcao == \"s\":\n",
        "        valor = float(input(\"Informe o valor do saque: \"))\n",
        "\n",
        "        excedeu_saldo = valor > saldo\n",
        "\n",
        "        excedeu_limite = valor > limite\n",
        "\n",
        "        excedeu_saques = numero_saques >= LIMITE_SAQUES\n",
        "\n",
        "        if excedeu_saldo:\n",
        "            print(\"Operação falhou! Você não tem saldo suficiente.\")\n",
        "\n",
        "        elif excedeu_limite:\n",
        "            print(\"Operação falhou! O valor do saque excede o limite.\")\n",
        "\n",
        "        elif excedeu_saques:\n",
        "            print(\"Operação falhou! Número máximo de saques excedido.\")\n",
        "\n",
        "        elif valor > 0:\n",
        "            saldo -= valor\n",
        "            extrato += f\"Saque: R$ {valor:.2f}\\n\"\n",
        "            numero_saques += 1\n",
        "\n",
        "        else:\n",
        "            print(\"Operação falhou! O valor informado é inválido.\")\n",
        "\n",
        "    elif opcao == \"e\":\n",
        "        print(\"\\n================ EXTRATO ================\")\n",
        "        print(\"Não foram realizadas movimentações.\" if not extrato else extrato)\n",
        "        print(f\"\\nSaldo: R$ {saldo:.2f}\")\n",
        "        print(\"==========================================\")\n",
        "\n",
        "    elif opcao == \"q\":\n",
        "        break\n",
        "\n",
        "    else:\n",
        "        print(\"Operação inválida, por favor selecione novamente a operação desejada.\")"
      ],
      "metadata": {
        "colab": {
          "base_uri": "https://localhost:8080/",
          "height": 367
        },
        "id": "6C4rv3pBiKTn",
        "outputId": "10de773c-550c-4443-a850-c5fcf5eb5d62"
      },
      "execution_count": 1,
      "outputs": [
        {
          "name": "stdout",
          "output_type": "stream",
          "text": [
            "\n",
            "\n",
            "[d] Depositar\n",
            "[s] Sacar\n",
            "[e] Extrato\n",
            "[q] Sair\n",
            "\n",
            "=> d\n",
            "Informe o valor do depósito: q\n"
          ]
        },
        {
          "output_type": "error",
          "ename": "ValueError",
          "evalue": "could not convert string to float: 'q'",
          "traceback": [
            "\u001b[0;31m---------------------------------------------------------------------------\u001b[0m",
            "\u001b[0;31mValueError\u001b[0m                                Traceback (most recent call last)",
            "\u001b[0;32m/tmp/ipython-input-1-1578420550.py\u001b[0m in \u001b[0;36m<cell line: 0>\u001b[0;34m()\u001b[0m\n\u001b[1;32m     19\u001b[0m \u001b[0;34m\u001b[0m\u001b[0m\n\u001b[1;32m     20\u001b[0m     \u001b[0;32mif\u001b[0m \u001b[0mopcao\u001b[0m \u001b[0;34m==\u001b[0m \u001b[0;34m\"d\"\u001b[0m\u001b[0;34m:\u001b[0m\u001b[0;34m\u001b[0m\u001b[0;34m\u001b[0m\u001b[0m\n\u001b[0;32m---> 21\u001b[0;31m         \u001b[0mvalor\u001b[0m \u001b[0;34m=\u001b[0m \u001b[0mfloat\u001b[0m\u001b[0;34m(\u001b[0m\u001b[0minput\u001b[0m\u001b[0;34m(\u001b[0m\u001b[0;34m\"Informe o valor do depósito: \"\u001b[0m\u001b[0;34m)\u001b[0m\u001b[0;34m)\u001b[0m\u001b[0;34m\u001b[0m\u001b[0;34m\u001b[0m\u001b[0m\n\u001b[0m\u001b[1;32m     22\u001b[0m \u001b[0;34m\u001b[0m\u001b[0m\n\u001b[1;32m     23\u001b[0m         \u001b[0;32mif\u001b[0m \u001b[0mvalor\u001b[0m \u001b[0;34m>\u001b[0m \u001b[0;36m0\u001b[0m\u001b[0;34m:\u001b[0m\u001b[0;34m\u001b[0m\u001b[0;34m\u001b[0m\u001b[0m\n",
            "\u001b[0;31mValueError\u001b[0m: could not convert string to float: 'q'"
          ]
        }
      ]
    }
  ]
}